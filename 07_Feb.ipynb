{
 "cells": [
  {
   "cell_type": "code",
   "execution_count": 10,
   "id": "43d66aca-a62a-4799-9510-c2f092eca48d",
   "metadata": {},
   "outputs": [
    {
     "name": "stdin",
     "output_type": "stream",
     "text": [
      "Enter Password VIKAS09#$%\n"
     ]
    },
    {
     "name": "stdout",
     "output_type": "stream",
     "text": [
      "INVALID PASSWORD!!!\n"
     ]
    }
   ],
   "source": [
    "#01\n",
    "\n",
    "def password_check(x):\n",
    "    cnt_l=cnt_u=cnt_n=cnt_s=0\n",
    "    if len(x)!=10:\n",
    "        print(\"INVALID PASSWORD!!!\")\n",
    "    else:\n",
    "        for i in x :\n",
    "            if i.isalpha()==True:\n",
    "                if i.isupper()==True:\n",
    "                    cnt_u+=1\n",
    "                elif i.islower()==True:\n",
    "                    cnt_l+=1\n",
    "            elif i.isnumeric()==True:\n",
    "                cnt_n+=1\n",
    "            else:\n",
    "                cnt_s+=1\n",
    "    if(cnt_s==3 and cnt_n>=1 and cnt_u>=2 and cnt_l>=2):\n",
    "        print(\"Valid Password !!!\")\n",
    "    else:\n",
    "        print(\"INVALID PASSWORD!!!\")\n",
    "\n",
    "passw=input(\"Enter Password\")\n",
    "password_check(passw)\n",
    "        "
   ]
  },
  {
   "cell_type": "markdown",
   "id": "787e4e52-f948-4a9c-983e-3045d0f7772b",
   "metadata": {},
   "source": [
    "======================================================================================================"
   ]
  },
  {
   "cell_type": "code",
   "execution_count": 13,
   "id": "14c2e718-a1b5-4948-950b-895b6314d0c0",
   "metadata": {},
   "outputs": [
    {
     "name": "stdout",
     "output_type": "stream",
     "text": [
      "True\n"
     ]
    }
   ],
   "source": [
    "#02\n",
    "string_test=\"My Name is Kakashi\"\n",
    "test=\"My\"\n",
    "start_with = lambda var,string : True if string.startswith(var)  else None\n",
    "\n",
    "print(start_with(var_test,test))"
   ]
  },
  {
   "cell_type": "code",
   "execution_count": 15,
   "id": "9e77d994-7e7a-46f1-9e41-0f2fc05ebd86",
   "metadata": {},
   "outputs": [
    {
     "name": "stdout",
     "output_type": "stream",
     "text": [
      "False\n"
     ]
    }
   ],
   "source": [
    "is_num= lambda num: True if num.isnumeric() else False \n",
    "\n",
    "print(is_num(test))"
   ]
  },
  {
   "cell_type": "code",
   "execution_count": 6,
   "id": "de4d38ad-5ef5-43fc-959c-ffa5a358c02f",
   "metadata": {},
   "outputs": [
    {
     "data": {
      "text/plain": [
       "[('orange', 80), ('mango', 99), ('grapes', 1000)]"
      ]
     },
     "execution_count": 6,
     "metadata": {},
     "output_type": "execute_result"
    }
   ],
   "source": [
    "tup1=[(\"mango\",99),(\"orange\",80),(\"grapes\",1000)]\n",
    "tup1.sort(key= lambda x:x[1])\n",
    "tup1"
   ]
  },
  {
   "cell_type": "code",
   "execution_count": 7,
   "id": "7713d3e2-4d9a-4243-870a-309029b9a1f6",
   "metadata": {},
   "outputs": [
    {
     "data": {
      "text/plain": [
       "[1, 4, 9, 16, 25, 36, 49, 64, 81, 100]"
      ]
     },
     "execution_count": 7,
     "metadata": {},
     "output_type": "execute_result"
    }
   ],
   "source": [
    "[i*i for i in range(1,11)]"
   ]
  },
  {
   "cell_type": "code",
   "execution_count": 8,
   "id": "539b5f10-bd96-4cb1-a68a-58b9aea1317a",
   "metadata": {},
   "outputs": [
    {
     "data": {
      "text/plain": [
       "[1.0,\n",
       " 1.2599210498948732,\n",
       " 1.4422495703074083,\n",
       " 1.5874010519681994,\n",
       " 1.7099759466766968,\n",
       " 1.8171205928321397,\n",
       " 1.912931182772389,\n",
       " 2.0,\n",
       " 2.080083823051904,\n",
       " 2.154434690031884]"
      ]
     },
     "execution_count": 8,
     "metadata": {},
     "output_type": "execute_result"
    }
   ],
   "source": [
    "import math\n",
    "[math.pow(i,1/3) for i in range(1,11)]"
   ]
  },
  {
   "cell_type": "code",
   "execution_count": 10,
   "id": "7adbeacc-582a-4ab1-ae00-e0461202efc5",
   "metadata": {},
   "outputs": [
    {
     "name": "stdout",
     "output_type": "stream",
     "text": [
      "Not Even\n"
     ]
    }
   ],
   "source": [
    "test_even=lambda x: print(\"Even\") if x%2==0 else print(\"Not Even\")\n",
    "test_even(5)"
   ]
  },
  {
   "cell_type": "code",
   "execution_count": 14,
   "id": "fd6b0b8e-a481-4ec5-bbe4-111f2100e9dd",
   "metadata": {},
   "outputs": [
    {
     "data": {
      "text/plain": [
       "[1, 3, 5, 7, 9]"
      ]
     },
     "execution_count": 14,
     "metadata": {},
     "output_type": "execute_result"
    }
   ],
   "source": [
    "lst=[1,2,3,4,5,6,7,8,9,10]\n",
    "list(filter(lambda x:x if x%2==1 else None,lst))"
   ]
  },
  {
   "cell_type": "code",
   "execution_count": 32,
   "id": "6a8a0ec7-c39b-4272-b7d4-f6071e47d40e",
   "metadata": {},
   "outputs": [
    {
     "name": "stdout",
     "output_type": "stream",
     "text": [
      "Positive list : [1, 2, 3, 4, 5, 6]\n",
      "Negative List : [-1, -2, -3, -4, -5]\n"
     ]
    }
   ],
   "source": [
    "lst1=[1,2,3,0,4,5,6,-1,-2,-3,-4,-5]\n",
    "pos_list=list(filter(lambda x: x if x>=0 else None,list(map(int,lst1))))\n",
    "neg_list=list(filter(lambda x: x if x<0 else False,lst1))\n",
    "print(\"Positive list :\",pos_list)\n",
    "print(\"Negative List :\",neg_list)"
   ]
  }
 ],
 "metadata": {
  "kernelspec": {
   "display_name": "Python 3 (ipykernel)",
   "language": "python",
   "name": "python3"
  },
  "language_info": {
   "codemirror_mode": {
    "name": "ipython",
    "version": 3
   },
   "file_extension": ".py",
   "mimetype": "text/x-python",
   "name": "python",
   "nbconvert_exporter": "python",
   "pygments_lexer": "ipython3",
   "version": "3.10.8"
  }
 },
 "nbformat": 4,
 "nbformat_minor": 5
}
