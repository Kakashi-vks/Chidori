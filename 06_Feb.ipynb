{
 "cells": [
  {
   "cell_type": "code",
   "execution_count": 2,
   "id": "e48e728c-7676-462f-a653-3ec0916007ce",
   "metadata": {},
   "outputs": [],
   "source": [
    "#01\n",
    "\n",
    "list1=[1,2,3,4,[44,55,56,True],False,(34,56,78,89,34),{1,2,3,3,2,1},{1:34,\"key2\":[55,67,78,89],4:(45,22,61,34)},[56,'data science'],'Machine Learning']"
   ]
  },
  {
   "cell_type": "code",
   "execution_count": 27,
   "id": "152d22ed-56df-47c4-8dcf-691477e9fe9b",
   "metadata": {},
   "outputs": [],
   "source": [
    "def prod(x):\n",
    "    lst1=[]\n",
    "    for i in x:\n",
    "        if type(i)==int:\n",
    "            lst1.append(i)\n",
    "        elif type(i)==list:\n",
    "            for j in i:\n",
    "                if type(j)==int:\n",
    "                    lst1.append(j)\n",
    "        elif type(i)==tuple:\n",
    "            for j in list(i) :\n",
    "                if type(j)==int:\n",
    "                    lst1.append(j)\n",
    "        elif type(i)==set:\n",
    "            for j in list(i):\n",
    "                if type(j)==int:\n",
    "                    lst1.append(j)\n",
    "        elif type(i)==dict:\n",
    "            for j,k in i.items():\n",
    "                if type(j)==int:\n",
    "                    lst1.append(j)\n",
    "                if type(k)==int:\n",
    "                    lst1.append(j)\n",
    "                elif type(k)==list:\n",
    "                    for l in k:\n",
    "                        lst1.append(l)\n",
    "                elif type(k)==tuple:\n",
    "                    for l in k: \n",
    "                        lst1.append(l)\n",
    "    x=1\n",
    "    for i in lst1:\n",
    "        x*=i\n",
    "    return x"
   ]
  },
  {
   "cell_type": "code",
   "execution_count": 28,
   "id": "26ec1064-d857-431f-9595-7f5298286076",
   "metadata": {},
   "outputs": [
    {
     "data": {
      "text/plain": [
       "103183539653866660790862348288000"
      ]
     },
     "execution_count": 28,
     "metadata": {},
     "output_type": "execute_result"
    }
   ],
   "source": [
    "prod(list1)"
   ]
  },
  {
   "cell_type": "markdown",
   "id": "ba60053d-b160-4dbf-a3d7-13505e14b0d2",
   "metadata": {},
   "source": [
    "======================================================================================================"
   ]
  },
  {
   "cell_type": "code",
   "execution_count": 54,
   "id": "1d7b2b47-c85b-407e-98ff-4ada02c5e6f0",
   "metadata": {},
   "outputs": [
    {
     "name": "stdout",
     "output_type": "stream",
     "text": [
      "r$dzmg$gl$yv$z$wzgz$hxrvmgrhg\n"
     ]
    }
   ],
   "source": [
    "#2 \n",
    "\n",
    "def encrypt(x):\n",
    "    ref=\"abcdefghijklmnopqrstuvwxyz\"\n",
    "    key=ref[::-1]\n",
    "    ls=[]\n",
    "    x=x.lower()\n",
    "    for i in x:\n",
    "        if i==\" \":\n",
    "            ls.append('$')\n",
    "        elif i.isalpha()==True:\n",
    "            pos=ref.index(i)\n",
    "            ls.append(key[pos])\n",
    "        else:\n",
    "            ls.append(i)\n",
    "    encryption=\"\".join(ls)\n",
    "    print(encryption)\n",
    "\n",
    "test=\"I want to be a Data Scientist\"\n",
    "encrypt(test)"
   ]
  }
 ],
 "metadata": {
  "kernelspec": {
   "display_name": "Python 3 (ipykernel)",
   "language": "python",
   "name": "python3"
  },
  "language_info": {
   "codemirror_mode": {
    "name": "ipython",
    "version": 3
   },
   "file_extension": ".py",
   "mimetype": "text/x-python",
   "name": "python",
   "nbconvert_exporter": "python",
   "pygments_lexer": "ipython3",
   "version": "3.10.8"
  }
 },
 "nbformat": 4,
 "nbformat_minor": 5
}
