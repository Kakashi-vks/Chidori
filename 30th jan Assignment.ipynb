{
 "cells": [
  {
   "cell_type": "markdown",
   "id": "d8eddc4f-76c2-421a-9e84-e03b99bed596",
   "metadata": {},
   "source": [
    "# Assignment 2 "
   ]
  },
  {
   "cell_type": "code",
   "execution_count": 5,
   "id": "275a9d2c-ad7f-4a7f-92cd-7cb3146352b8",
   "metadata": {},
   "outputs": [
    {
     "name": "stdin",
     "output_type": "stream",
     "text": [
      "Enter your percentage 88\n"
     ]
    },
    {
     "name": "stdout",
     "output_type": "stream",
     "text": [
      "Grade B \n"
     ]
    }
   ],
   "source": [
    "#1 \n",
    "\n",
    "marks=int(input(\"Enter your percentage\"))\n",
    "if marks>90:\n",
    "    print(\"Grade A \")\n",
    "elif marks<=90 and marks>80 :\n",
    "    print(\"Grade B \")\n",
    "elif marks<=80 and marks >60 :    \n",
    "    print(\"Grade C \")\n",
    "else:    \n",
    "    print(\"Grade D \")"
   ]
  },
  {
   "cell_type": "code",
   "execution_count": 9,
   "id": "52230e06-79a2-4a71-81cf-748df5b4b4ed",
   "metadata": {},
   "outputs": [
    {
     "name": "stdin",
     "output_type": "stream",
     "text": [
      "Enter cost price of the bike 200000\n"
     ]
    },
    {
     "name": "stdout",
     "output_type": "stream",
     "text": [
      "Road Tax = 30000.0\n"
     ]
    }
   ],
   "source": [
    "#2 \n",
    "\n",
    "price=int(input(\"Enter cost price of the bike\"))\n",
    "if price>100000:\n",
    "    print(f\"Road Tax = {.15*price}\")\n",
    "elif price <=100000 and price >50000:\n",
    "    print(f\"Road Tax = {.1*price}\")\n",
    "else:\n",
    "    print(f\"Road Tax = {.05*price}\")"
   ]
  },
  {
   "cell_type": "code",
   "execution_count": 17,
   "id": "f5ef24e3-dce9-430f-928f-2d68aa9b9e7f",
   "metadata": {},
   "outputs": [
    {
     "name": "stdin",
     "output_type": "stream",
     "text": [
      "Choose a city \n",
      "Delhi \n",
      "Agra \n",
      "Jaipur\n",
      "\n",
      " JaIpUr\n"
     ]
    },
    {
     "name": "stdout",
     "output_type": "stream",
     "text": [
      "Monument : Jal Mahal \n"
     ]
    }
   ],
   "source": [
    "#3\n",
    "\n",
    "city= input(f\"Choose a city \\nDelhi \\nAgra \\nJaipur\\n\\n\")\n",
    "city=city.capitalize()\n",
    "if city == \"Delhi\" :\n",
    "    print(\"Monument : Red Fort \")\n",
    "elif city==\"Agra\":\n",
    "    print(\"Monument : Taj Mahal \")\n",
    "elif city==\"Jaipur\":\n",
    "    print(\"Monument : Jal Mahal \")\n",
    "else:\n",
    "    print(\"Invalid city chosen\")    "
   ]
  },
  {
   "cell_type": "code",
   "execution_count": 21,
   "id": "5b547ebe-fd19-404a-89b2-93e94ee066de",
   "metadata": {},
   "outputs": [
    {
     "name": "stdin",
     "output_type": "stream",
     "text": [
      "Enter a number 42\n"
     ]
    },
    {
     "name": "stdout",
     "output_type": "stream",
     "text": [
      "Times 42 can be divided by 3 before less than equal to 10: 2\n"
     ]
    }
   ],
   "source": [
    "#4\n",
    "\n",
    "num=int(input(\"Enter a number\"))\n",
    "count=0\n",
    "num1=num\n",
    "while num>10:\n",
    "    num = num/3\n",
    "    count+=1\n",
    "\n",
    "print(f\"Times {num1} can be divided by 3 before less than equal to 10: {count}\")"
   ]
  },
  {
   "cell_type": "code",
   "execution_count": 22,
   "id": "68278dbf-5a8a-4893-97cc-075b524b6065",
   "metadata": {},
   "outputs": [
    {
     "name": "stdin",
     "output_type": "stream",
     "text": [
      "Enter a number 74\n"
     ]
    },
    {
     "name": "stdout",
     "output_type": "stream",
     "text": [
      "5\n",
      "10\n",
      "15\n",
      "20\n",
      "25\n",
      "30\n",
      "35\n",
      "40\n",
      "45\n",
      "50\n",
      "55\n",
      "60\n",
      "65\n",
      "70\n"
     ]
    }
   ],
   "source": [
    "#5\n",
    "\n",
    "''' While loop  used when we need to execute a set of instruction multiple\n",
    "time untill a certain condition is met'''\n",
    "\n",
    "'''exmaple of while loop : Print no divisible by 5 untill your number is \n",
    "not greater than number entered by user'''\n",
    "\n",
    "num2= int(input(\"Enter a number\"))\n",
    "x=5\n",
    "while num2>=x:\n",
    "    print(x)\n",
    "    x+=5"
   ]
  },
  {
   "cell_type": "code",
   "execution_count": 4,
   "id": "1233f8e1-7e84-4a3e-9a77-e6a14bcd0b7f",
   "metadata": {},
   "outputs": [
    {
     "name": "stdin",
     "output_type": "stream",
     "text": [
      "Enter size of pyramid 5\n"
     ]
    },
    {
     "name": "stdout",
     "output_type": "stream",
     "text": [
      "*\n",
      "**\n",
      "***\n",
      "****\n",
      "*****\n"
     ]
    }
   ],
   "source": [
    "#6\n",
    "\n",
    "#6.1 Print Pattern of * Pyramid\n",
    "\n",
    "size=int(input(\"Enter size of pyramid\"))\n",
    "ref=1\n",
    "while size>0:\n",
    "    ref1=ref\n",
    "    while ref1>0:\n",
    "        print('*',end='')\n",
    "        ref1-=1\n",
    "    print(end='\\n')\n",
    "    ref+=1\n",
    "    size-=1"
   ]
  },
  {
   "cell_type": "code",
   "execution_count": 3,
   "id": "5d3fedcf-70d8-4517-a01e-eab0591a4654",
   "metadata": {},
   "outputs": [
    {
     "name": "stdin",
     "output_type": "stream",
     "text": [
      "Enter size of pyramid 5\n"
     ]
    },
    {
     "name": "stdout",
     "output_type": "stream",
     "text": [
      "*****\n",
      "****\n",
      "***\n",
      "**\n",
      "*\n"
     ]
    }
   ],
   "source": [
    "#6.2 Print * Pattern of reverse pyramid\n",
    "\n",
    "size_r=int(input(\"Enter size of pyramid\"))\n",
    "ref_r=size_r\n",
    "while size_r>0:\n",
    "    ref2=ref_r\n",
    "    while ref2>0:\n",
    "        print('*',end='')\n",
    "        ref2-=1\n",
    "    print(end='\\n')\n",
    "    ref_r-=1\n",
    "    size_r-=1"
   ]
  },
  {
   "cell_type": "code",
   "execution_count": 21,
   "id": "4138e165-7bd8-4d9f-9ca4-31f93bfe5e04",
   "metadata": {},
   "outputs": [
    {
     "name": "stdin",
     "output_type": "stream",
     "text": [
      "Enter size of the pyramid 5\n"
     ]
    },
    {
     "name": "stdout",
     "output_type": "stream",
     "text": [
      "    * \n",
      "   * * \n",
      "  * * * \n",
      " * * * * \n",
      "* * * * * \n"
     ]
    }
   ],
   "source": [
    "#6.3 Print center aligned pyramid\n",
    "\n",
    "size_c=int(input(\"Enter size of the pyramid\"))\n",
    "ref_c=size_c-1\n",
    "ref3=1\n",
    "while size_c>0:\n",
    "    ref_c1=ref_c\n",
    "    ref4=ref3\n",
    "    while ref_c1>0:\n",
    "        print(\" \",end='')\n",
    "        ref_c1-=1\n",
    "    while ref4>0:\n",
    "        print(\"* \",end='')\n",
    "        ref4-=1\n",
    "    print(end=\"\\n\")\n",
    "    size_c-=1\n",
    "    ref_c-=1\n",
    "    ref3+=1\n",
    "\n"
   ]
  },
  {
   "cell_type": "code",
   "execution_count": 22,
   "id": "648636fb-121e-4af2-96d5-e5e39c8fe9ad",
   "metadata": {},
   "outputs": [
    {
     "name": "stdout",
     "output_type": "stream",
     "text": [
      "10\n",
      "9\n",
      "8\n",
      "7\n",
      "6\n",
      "5\n",
      "4\n",
      "3\n",
      "2\n",
      "1\n"
     ]
    }
   ],
   "source": [
    "#7\n",
    "x=10\n",
    "while x>0:\n",
    "    print(x)\n",
    "    x-=1\n"
   ]
  }
 ],
 "metadata": {
  "kernelspec": {
   "display_name": "Python 3 (ipykernel)",
   "language": "python",
   "name": "python3"
  },
  "language_info": {
   "codemirror_mode": {
    "name": "ipython",
    "version": 3
   },
   "file_extension": ".py",
   "mimetype": "text/x-python",
   "name": "python",
   "nbconvert_exporter": "python",
   "pygments_lexer": "ipython3",
   "version": "3.10.8"
  }
 },
 "nbformat": 4,
 "nbformat_minor": 5
}
