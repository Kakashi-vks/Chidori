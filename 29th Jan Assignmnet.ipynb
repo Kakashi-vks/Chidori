{
 "cells": [
  {
   "cell_type": "markdown",
   "id": "4f8e0559-2692-46d7-a190-f5a3b6d4cc1a",
   "metadata": {},
   "source": [
    "1. Guido Van Rossum invented python programming language."
   ]
  },
  {
   "cell_type": "markdown",
   "id": "819f7b72-ac7d-488e-9716-d776249af389",
   "metadata": {},
   "source": [
    "2. Python supports following type of programming  \n",
    "    a. Object oriented \n",
    "    b. structured\n",
    "    c. functional "
   ]
  },
  {
   "cell_type": "markdown",
   "id": "c9578f56-836a-4a60-8cd7-d4e8393f5f40",
   "metadata": {},
   "source": [
    "3. Yes python is a case sensitive language when dealing with the identifiers . Test1 and test1 are two different identifiers."
   ]
  },
  {
   "cell_type": "markdown",
   "id": "ff92347c-976d-455e-8539-0c65697b31f3",
   "metadata": {},
   "source": [
    "4. Correct extention of python files is .ipynb "
   ]
  },
  {
   "cell_type": "markdown",
   "id": "1eb0c6d8-dfc1-4b91-8697-cced1e1dd3f0",
   "metadata": {},
   "source": [
    "5. Python code is interpreted i.e.python code is converetd into bytecode which is then executed in virtual machine."
   ]
  },
  {
   "cell_type": "markdown",
   "id": "ba5fe91d-7840-43e5-8427-a2978ec367d3",
   "metadata": {},
   "source": [
    "6. Block of codes used in python language \n",
    "   1. def func1():\n",
    "           print(\"hi\")\n",
    "   2. if 5>7:\n",
    "          print (\"First no is small\")\n",
    "   3. for i in range(6):\n",
    "           print(i)"
   ]
  },
  {
   "cell_type": "markdown",
   "id": "a23bc839-2a4b-43e5-b384-57c570740802",
   "metadata": {},
   "source": [
    "7. Character used for single line comment in python is #"
   ]
  },
  {
   "cell_type": "markdown",
   "id": "c8069744-1bff-4516-9dda-16cd5d2da73c",
   "metadata": {},
   "source": [
    "8. Following is a way to check current version of python \n",
    "##### import sys \n",
    "##### sys.version"
   ]
  },
  {
   "cell_type": "markdown",
   "id": "ea40d1ce-8099-41bc-9a27-8bf5bfe40d98",
   "metadata": {},
   "source": [
    "9. Lambda is the constructor python uses as runtime to make anonymous functions"
   ]
  },
  {
   "cell_type": "markdown",
   "id": "ca67bc3b-6e36-4e11-895f-8c8d9f344ef3",
   "metadata": {},
   "source": [
    "10. pip stands for package installer program. It is used to install, uninstall, download etc with the python packages."
   ]
  },
  {
   "cell_type": "markdown",
   "id": "16471cec-5702-4c54-a602-bcb65357d55d",
   "metadata": {},
   "source": [
    "11. Some built in functions in python are \n",
    "    1. int() \n",
    "    2. min ()\n",
    "    3. round()\n",
    "    4. list()\n"
   ]
  },
  {
   "cell_type": "markdown",
   "id": "f7614e26-0646-4b5b-bc87-2e28a0609ec9",
   "metadata": {},
   "source": [
    "12. Max possible length of identifier in python is 79 characters"
   ]
  },
  {
   "cell_type": "markdown",
   "id": "53aea158-3fde-413d-9ee3-604b5d16c2d1",
   "metadata": {},
   "source": [
    "13. Advantages of using python \n",
    "    1. Extensive libraries are available \n",
    "    2. Concise syntax \n",
    "    3. Portable languare ..can be transfered irrespective of OS \n",
    "    4. Wide range of use case"
   ]
  },
  {
   "cell_type": "markdown",
   "id": "2266d61a-e37d-4e02-a257-aff5eabde365",
   "metadata": {},
   "source": [
    "14. Python has a private heap that stores program’s objects and data structures.Python memory manager takes care of the bulk of the memory management work.There are two type of memory allocation \n",
    "    1. Static memory allocation : Permanent for variable names and persist for duration of program \n",
    "    2. Dynamic memory allocation : Uses heap datastructure on its implementation and uses heap memory."
   ]
  },
  {
   "cell_type": "markdown",
   "id": "db7fe508-1e28-4bba-93b7-509f8a8547a9",
   "metadata": {},
   "source": [
    "15. Download and install python.exe from python www.python,org. After installtion follow the following.\n",
    "    1. Right-clicking This PC and going to Properties.\n",
    "    2. Clicking on the Advanced system settings in the menu on the left.\n",
    "    3. Clicking on the Environment Variables button o​n the bottom right.\n",
    "    4. In the System variables section, selecting the Path variable and clicking on Edit. The next screen will show all the directories that are currently a part of the PATH variable.\n",
    "    5. Clicking on New and entering Python’s install directory."
   ]
  },
  {
   "cell_type": "markdown",
   "id": "e94fab27-f881-45a5-8746-6d756787a50a",
   "metadata": {},
   "source": [
    "16. Yes indentation is required in the python, it is used to define the scope of the block such as for loop, if -else statements"
   ]
  }
 ],
 "metadata": {
  "kernelspec": {
   "display_name": "Python 3 (ipykernel)",
   "language": "python",
   "name": "python3"
  },
  "language_info": {
   "codemirror_mode": {
    "name": "ipython",
    "version": 3
   },
   "file_extension": ".py",
   "mimetype": "text/x-python",
   "name": "python",
   "nbconvert_exporter": "python",
   "pygments_lexer": "ipython3",
   "version": "3.10.8"
  }
 },
 "nbformat": 4,
 "nbformat_minor": 5
}
