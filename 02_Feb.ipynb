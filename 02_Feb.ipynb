{
 "cells": [
  {
   "cell_type": "markdown",
   "id": "9ba78d36-5075-42d5-bd6c-862cfa80c04f",
   "metadata": {},
   "source": [
    "1. Tuples are \n",
    "    1. indexed \n",
    "    2. ordered \n",
    "    3. can contain duplicate entry \n",
    "##### They are immutable."
   ]
  },
  {
   "cell_type": "code",
   "execution_count": null,
   "id": "f1b86cd7-fc13-45dc-b3f8-bdbabee7f7ec",
   "metadata": {},
   "outputs": [],
   "source": [
    "#2. Following are the two method of tuple \n",
    "    # 1.index : returns index of first position of any value \n",
    "    # 2.count : returns number of occurances of any value \n",
    "    \n",
    "tup=(1,5,6,7.8,\"Vikas\",4,5)\n",
    "print(tup.index(4))\n",
    "print(tup.count(5))\n",
    "\n",
    "# Tuples have only two function as compared to list  as in tuple the position of element is fixed,along with size of tuple. Also tuple are immutable so \n",
    "# all  function to modifiy tuple become irrelevant"
   ]
  },
  {
   "cell_type": "code",
   "execution_count": 10,
   "id": "92290019-e957-428d-9106-c7d12f8f94e4",
   "metadata": {},
   "outputs": [
    {
     "name": "stdout",
     "output_type": "stream",
     "text": [
      "{1, 2, 3, 4}\n"
     ]
    }
   ],
   "source": [
    "#3 Sets are the collection datatypes in python do not allow duplicate items.\n",
    "\n",
    "list1=[1,1,1,2,1,3,1,4,2,1,2,2,2,3,2,4,3,1,3,2,3,3,3,3,4,4,1,4,2,4,3,4]\n",
    "lst=set(list1)\n",
    "print(lst)"
   ]
  },
  {
   "cell_type": "code",
   "execution_count": 15,
   "id": "c3d86904-d2c0-44f1-9498-3f3c9447a045",
   "metadata": {},
   "outputs": [
    {
     "name": "stdout",
     "output_type": "stream",
     "text": [
      "{1, 2, 3, 5, 7} {1, 3, 5, 6, 9} {1, 2, 3, 5, 6, 7, 9}\n",
      "{1, 2, 3, 5, 6, 7, 9} {1, 3, 5, 6, 9}\n"
     ]
    }
   ],
   "source": [
    "#4 Union and update both are used to merge sets but Union return new set which needs to assigned to some variable, \n",
    "#  while update funtion adds value to parent set and updates the value \n",
    "\n",
    "s1={1,2,3,5,7}\n",
    "s2={1,3,5,6,9}\n",
    "s3=s1.union(s2)\n",
    "print(s1,s2,s3)\n",
    "s1.update(s2)\n",
    "print(s1,s2)"
   ]
  },
  {
   "cell_type": "code",
   "execution_count": 1,
   "id": "bc33bf3b-8b9b-4b4c-b07a-64cbf2e28a6a",
   "metadata": {},
   "outputs": [
    {
     "data": {
      "text/plain": [
       "'Two'"
      ]
     },
     "execution_count": 1,
     "metadata": {},
     "output_type": "execute_result"
    }
   ],
   "source": [
    "#5 Dictionary in python is a collection of key value pair which does not allow duplicates and ordered .\n",
    "dict_1={1:\"One\",2:\"Two\",3:\"Three\"}\n",
    "dict_1[2]\n",
    "\n",
    "# Dictionary is ordered"
   ]
  },
  {
   "cell_type": "code",
   "execution_count": 19,
   "id": "54d7b8b1-f8d9-4ebb-86bf-945036c10811",
   "metadata": {},
   "outputs": [
    {
     "data": {
      "text/plain": [
       "'Kakashi'"
      ]
     },
     "execution_count": 19,
     "metadata": {},
     "output_type": "execute_result"
    }
   ],
   "source": [
    "#6 Yes we can create nested dictionary. \n",
    "\n",
    "dict2={'Id':1234,'Name':{'Fname':'Kakashi','Lname':'Hatake'}}\n",
    "dict2['Name']['Fname']"
   ]
  },
  {
   "cell_type": "code",
   "execution_count": 3,
   "id": "2a39ecea-d1d4-4acb-8dfa-03b000315a0b",
   "metadata": {},
   "outputs": [
    {
     "data": {
      "text/plain": [
       "{'language': 'Python',\n",
       " 'course': 'Data Science Masters',\n",
       " 'Topics': ['Python', 'Machine Learing', 'Deep Learing']}"
      ]
     },
     "execution_count": 3,
     "metadata": {},
     "output_type": "execute_result"
    }
   ],
   "source": [
    "#7\n",
    "\n",
    "dict1={\"language\":\"Python\",'course':'Data Science Masters'}\n",
    "lst=['Python','Machine Learing','Deep Learing']\n",
    "dict1.setdefault('Topics',lst)\n",
    "dict1"
   ]
  },
  {
   "cell_type": "code",
   "execution_count": 5,
   "id": "e0b51b1a-25ea-4c07-b971-8a0ddc9a5fc5",
   "metadata": {},
   "outputs": [
    {
     "name": "stdout",
     "output_type": "stream",
     "text": [
      "Keys : dict_keys(['Sports', 'Teams'])\n",
      "Values : dict_values(['Cricket', ['India', 'Australia', 'England', 'South Africa', 'Sri Lanka', 'New Zealand']])\n",
      "Items : dict_items([('Sports', 'Cricket'), ('Teams', ['India', 'Australia', 'England', 'South Africa', 'Sri Lanka', 'New Zealand'])])\n"
     ]
    }
   ],
   "source": [
    "#8\n",
    "\n",
    "dict1={'Sports':'Cricket','Teams':['India','Australia','England','South Africa','Sri Lanka','New Zealand']}\n",
    "\n",
    "# Three view object in dictionary are keys, values and items .\n",
    "\n",
    "print('Keys :',dict1.keys())\n",
    "\n",
    "print('Values :',dict1.values())\n",
    "\n",
    "print('Items :',dict1.items())"
   ]
  }
 ],
 "metadata": {
  "kernelspec": {
   "display_name": "Python 3 (ipykernel)",
   "language": "python",
   "name": "python3"
  },
  "language_info": {
   "codemirror_mode": {
    "name": "ipython",
    "version": 3
   },
   "file_extension": ".py",
   "mimetype": "text/x-python",
   "name": "python",
   "nbconvert_exporter": "python",
   "pygments_lexer": "ipython3",
   "version": "3.10.8"
  }
 },
 "nbformat": 4,
 "nbformat_minor": 5
}
