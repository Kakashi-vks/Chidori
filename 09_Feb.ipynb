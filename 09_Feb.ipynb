{
 "cells": [
  {
   "cell_type": "code",
   "execution_count": 1,
   "id": "a1a7fe4b-1888-4f0e-9418-9e98e9808f3d",
   "metadata": {},
   "outputs": [],
   "source": [
    "#1\n",
    "\n",
    "class vehicle:\n",
    "    def __init__(self,name_of_vehicle,max_speed,average_of_vehicle):\n",
    "        self.name_of_vehicle=name_of_vehicle\n",
    "        self.max_speed=max_speed\n",
    "        self.average_of_vehicle=average_of_vehicle"
   ]
  },
  {
   "cell_type": "code",
   "execution_count": 9,
   "id": "239a5ee3-cb44-4b55-9020-52f779e8b1a9",
   "metadata": {},
   "outputs": [
    {
     "data": {
      "text/plain": [
       "('Hyundai', 50)"
      ]
     },
     "execution_count": 9,
     "metadata": {},
     "output_type": "execute_result"
    }
   ],
   "source": [
    "#2\n",
    "\n",
    "class car(vehicle):\n",
    "    \n",
    "    def seating_capacity(self,capacity):\n",
    "        self.capacity=capacity\n",
    "        #vehicle.__init__(self,name_of_vehicle,max_speed,average_of_vehicle)\n",
    "        return self.name_of_vehicle,self.capacity\n",
    "\n",
    "v1=car(\"Hyundai\",150,60)\n",
    "v1.seating_capacity(50)"
   ]
  },
  {
   "cell_type": "code",
   "execution_count": 12,
   "id": "62581ef7-51ab-4cfe-b8fd-33e399f78904",
   "metadata": {},
   "outputs": [
    {
     "name": "stdout",
     "output_type": "stream",
     "text": [
      "We are in function of parent class 1\n",
      "We are in function of parent class 2\n",
      "We are in the function of child class\n"
     ]
    }
   ],
   "source": [
    "#3\n",
    "\n",
    "'''Multiple Inheritance is type of inheritance means one child class derives from more than one parent class '''\n",
    "\n",
    "class parent1:\n",
    "    def parent1(self):\n",
    "        print(\"We are in function of parent class 1\")\n",
    "class parent2:\n",
    "    def parent2(self):\n",
    "        print(\"We are in function of parent class 2\")\n",
    "class child(parent1,parent2):\n",
    "    def child(self):\n",
    "        print(\"We are in the function of child class\")\n",
    "        \n",
    "ch1=child()\n",
    "ch1.parent1()\n",
    "ch1.parent2()\n",
    "ch1.child()"
   ]
  },
  {
   "cell_type": "code",
   "execution_count": 26,
   "id": "c2aed65e-3a0f-4b39-b041-278910d57925",
   "metadata": {},
   "outputs": [
    {
     "name": "stdout",
     "output_type": "stream",
     "text": [
      "This is setter function\n",
      "This is a getter function\n"
     ]
    },
    {
     "data": {
      "text/plain": [
       "5"
      ]
     },
     "execution_count": 26,
     "metadata": {},
     "output_type": "execute_result"
    }
   ],
   "source": [
    "#4\n",
    "\n",
    "class test:\n",
    "    def __init__(self):\n",
    "        self._initial=0\n",
    "        \n",
    "    @property\n",
    "    def initial(self):\n",
    "        print(\"This is a getter function\")\n",
    "        return self._initial\n",
    "    \n",
    "    \n",
    "    @initial.setter\n",
    "    def initial(self,a):\n",
    "        print(\"This is setter function\")\n",
    "        self._initial=a\n",
    "\n",
    "t1=test()\n",
    "t1.initial=5\n",
    "t1.initial\n"
   ]
  },
  {
   "cell_type": "code",
   "execution_count": 29,
   "id": "aaac6f84-1ba2-4ff8-a2c0-59bbfa55644e",
   "metadata": {},
   "outputs": [
    {
     "name": "stdout",
     "output_type": "stream",
     "text": [
      "Dog\n",
      "Cat\n"
     ]
    }
   ],
   "source": [
    "# 5 \n",
    "\n",
    "# Method Overiding\n",
    "'''Method overriding is an ability of inheritence in which a child class or a sub class can over ride the method or function of a parent class '''\n",
    "\n",
    "class pet():\n",
    "    def __init__(self):\n",
    "        self.pet1=\"Dog\"\n",
    "    \n",
    "    def show(self):  #function being overloaded\n",
    "        print(self.pet1)\n",
    "        \n",
    "class personal_pet(pet): \n",
    "    def __init__(self):\n",
    "        self.pet1=\"Cat\"\n",
    "    \n",
    "    def show(self):  #overloading function \n",
    "        print(self.pet1)\n",
    "        \n",
    "p1=pet()\n",
    "p2=personal_pet()\n",
    "\n",
    "p1.show()\n",
    "p2.show()"
   ]
  },
  {
   "cell_type": "code",
   "execution_count": 12,
   "id": "0bdaf562-41f5-44f7-b6b5-6d615456204b",
   "metadata": {},
   "outputs": [
    {
     "name": "stdout",
     "output_type": "stream",
     "text": [
      "True\n"
     ]
    }
   ],
   "source": [
    "dict1 = {\"key1\":1, \"key2\":2}\n",
    "\n",
    "dict2 = {\"key2\":2, \"key1\":1}\n",
    "\n",
    "print(dict1 == dict2)"
   ]
  },
  {
   "cell_type": "code",
   "execution_count": null,
   "id": "a1cbd3f7-7c58-45cb-9bde-3e8bda5d4b7b",
   "metadata": {},
   "outputs": [],
   "source": []
  },
  {
   "cell_type": "code",
   "execution_count": 20,
   "id": "a914e56d-96c0-48a8-bc99-421f427cdd68",
   "metadata": {},
   "outputs": [
    {
     "ename": "TypeError",
     "evalue": "reduce expected at least 2 arguments, got 0",
     "output_type": "error",
     "traceback": [
      "\u001b[0;31m---------------------------------------------------------------------------\u001b[0m",
      "\u001b[0;31mTypeError\u001b[0m                                 Traceback (most recent call last)",
      "Cell \u001b[0;32mIn[20], line 2\u001b[0m\n\u001b[1;32m      1\u001b[0m \u001b[38;5;28;01mimport\u001b[39;00m \u001b[38;5;21;01mfunctools\u001b[39;00m\n\u001b[0;32m----> 2\u001b[0m \u001b[43mfunctools\u001b[49m\u001b[38;5;241;43m.\u001b[39;49m\u001b[43mreduce\u001b[49m\u001b[43m(\u001b[49m\u001b[43m)\u001b[49m\n",
      "\u001b[0;31mTypeError\u001b[0m: reduce expected at least 2 arguments, got 0"
     ]
    }
   ],
   "source": []
  },
  {
   "cell_type": "code",
   "execution_count": null,
   "id": "ccdaa319-32ae-4a44-9879-c84fa5aefa64",
   "metadata": {},
   "outputs": [],
   "source": []
  }
 ],
 "metadata": {
  "kernelspec": {
   "display_name": "Python 3 (ipykernel)",
   "language": "python",
   "name": "python3"
  },
  "language_info": {
   "codemirror_mode": {
    "name": "ipython",
    "version": 3
   },
   "file_extension": ".py",
   "mimetype": "text/x-python",
   "name": "python",
   "nbconvert_exporter": "python",
   "pygments_lexer": "ipython3",
   "version": "3.10.8"
  }
 },
 "nbformat": 4,
 "nbformat_minor": 5
}
