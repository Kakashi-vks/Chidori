{
 "cells": [
  {
   "cell_type": "code",
   "execution_count": 1,
   "id": "7fabd9bc-0d87-4a43-8af8-d22e39e2e53b",
   "metadata": {},
   "outputs": [
    {
     "data": {
      "text/plain": [
       "[1, 3, 5, 7, 9, 11, 13, 15, 17, 19, 21, 23]"
      ]
     },
     "execution_count": 1,
     "metadata": {},
     "output_type": "execute_result"
    }
   ],
   "source": [
    "#1\n",
    "\n",
    "# def is the keyword used to create function \n",
    "\n",
    "def odd_num():\n",
    "    lst=[]\n",
    "    for i in range(25):\n",
    "        if i%2!=0:\n",
    "            lst.append(i)\n",
    "    return lst\n",
    "\n",
    "odd_num()"
   ]
  },
  {
   "cell_type": "code",
   "execution_count": 15,
   "id": "de6f1281-47e1-4d85-9e07-7aab2075a285",
   "metadata": {},
   "outputs": [
    {
     "name": "stdout",
     "output_type": "stream",
     "text": [
      "154\n",
      "One:1\n",
      "Two:2\n",
      "Three:3\n",
      "Four:4\n"
     ]
    }
   ],
   "source": [
    "#2\n",
    "\n",
    "# *args is used in function to provide argument to a function when the number of arguments is not pre defined.It takes value like list tuple.\n",
    "# **kwargs is used in function to provide named argumnet to a function when the number of argumnents is not pre defined. This excepts value as dictionary i.e., key value pair\n",
    "\n",
    "def test_func(*args):\n",
    "    sum_t=0\n",
    "    for i in args:\n",
    "        sum_t+=i\n",
    "    print(sum_t)\n",
    "\n",
    "sum_=test_func(1,4,5,78,12,3,45,6)\n",
    "\n",
    "def test_func2(**kwargs):\n",
    "    for key,value in kwargs.items():\n",
    "        print(f'{key}:{value}')\n",
    "    \n",
    "test_func2(One=1,Two=2,Three=3,Four=4)"
   ]
  },
  {
   "cell_type": "code",
   "execution_count": 3,
   "id": "10a69236-6390-4afb-a8f5-9fd8f17b3cc0",
   "metadata": {},
   "outputs": [
    {
     "name": "stdout",
     "output_type": "stream",
     "text": [
      "2\n",
      "4\n",
      "6\n",
      "8\n",
      "10\n"
     ]
    }
   ],
   "source": [
    "#3\n",
    "\n",
    "#An iterator is an object that contains a countable number of values. We can traverse through all values.\n",
    "# iter() method is used to initialise an iterator. next() method is used for iteration. \n",
    "\n",
    "lst=[2,4,6,8,10,12,14,16,18,20]\n",
    "lst=iter(lst)\n",
    "for i in range(5):\n",
    "    print(next(lst))\n"
   ]
  },
  {
   "cell_type": "code",
   "execution_count": 7,
   "id": "d5f8ce10-bc8d-4097-9bbb-e523948566e1",
   "metadata": {},
   "outputs": [
    {
     "name": "stdout",
     "output_type": "stream",
     "text": [
      "1\n",
      "2\n"
     ]
    }
   ],
   "source": [
    "#4\n",
    "\n",
    "# A generator is a function that returns an iterator that produces a sequence of values when iterated over. \n",
    "# Generators are useful when we want to produce a large sequence of values, but we don't want to store all of them in memory at once\n",
    "# Yied keyword is used instead of return in any function as it automatically converts into generator function\n",
    "\n",
    "def gen_function1():\n",
    "    yield 1\n",
    "    yield 2\n",
    "\n",
    "for i in gen_function1():\n",
    "    print(i)"
   ]
  },
  {
   "cell_type": "code",
   "execution_count": 11,
   "id": "0146c6ed-a285-4055-bdff-a1052a7f68c3",
   "metadata": {},
   "outputs": [
    {
     "name": "stdout",
     "output_type": "stream",
     "text": [
      "2 3 5 7 11 13 17 19 23 29 31 37 41 43 47 53 59 61 67 71 "
     ]
    }
   ],
   "source": [
    "#5 \n",
    "\n",
    "def gen_prime():\n",
    "    for i in range(2,1000):\n",
    "        count=0\n",
    "        for j in range(2,i):\n",
    "            if i%j==0:\n",
    "                count+=1\n",
    "        if count==0:\n",
    "            yield i\n",
    "\n",
    "x=gen_prime()\n",
    "\n",
    "for i in range(20):\n",
    "    print(next(x),end=' ')"
   ]
  }
 ],
 "metadata": {
  "kernelspec": {
   "display_name": "Python 3 (ipykernel)",
   "language": "python",
   "name": "python3"
  },
  "language_info": {
   "codemirror_mode": {
    "name": "ipython",
    "version": 3
   },
   "file_extension": ".py",
   "mimetype": "text/x-python",
   "name": "python",
   "nbconvert_exporter": "python",
   "pygments_lexer": "ipython3",
   "version": "3.10.8"
  }
 },
 "nbformat": 4,
 "nbformat_minor": 5
}
