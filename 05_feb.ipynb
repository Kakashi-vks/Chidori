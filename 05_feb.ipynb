{
 "cells": [
  {
   "cell_type": "code",
   "execution_count": null,
   "id": "b3244eff-007c-4b57-8ea0-e7b67ec05fd8",
   "metadata": {},
   "outputs": [],
   "source": [
    "#1\n",
    "\n",
    "''' A class is a collection of objects. A class contains the blueprints or the prototype from which the objects are being created.\n",
    "   It is a logical entity that contains some attributes and methods. '''\n",
    "\n",
    "'''The object is an entity that has a state and behavior associated with it. It may be any real-world object like a mouse, keyboard, chair'''\n",
    "\n",
    "class student:\n",
    "    def assign(self,stud_name,stud_class,stud_roll):\n",
    "        self.stud_name=stud_name\n",
    "        self.stud_class=stud_class\n",
    "        self.stud_roll=stud_roll\n",
    "\n",
    "st1=student()  # st1 will have all the function and feature of class object\n"
   ]
  },
  {
   "cell_type": "code",
   "execution_count": null,
   "id": "ffeb28e8-8402-41f1-9e8a-e27f98cf017e",
   "metadata": {},
   "outputs": [],
   "source": [
    "#2\n",
    "\n",
    "'''Four Pillars of OOPs are '''\n",
    "#i) Inheritance : nheritance is the capability of one class to derive or inherit the properties from another class. \n",
    "    '''The class that derives properties is called the derived class or child class and \n",
    "    the class from which the properties are being derived is called the base class or parent class.'''\n",
    "\n",
    "#ii) Polymorphism : Polymorphism simply means having many forms. \n",
    "     '''For example, we need to determine if the given species of birds fly or not, using polymorphism we can do this using a single function'''\n",
    "\n",
    "#iii) Encapsulation : Encapsulation is one of the fundamental concepts in object-oriented programming (OOP). It describes the idea of wrapping data and the methods that work on data within one unit. \n",
    "     '''This puts restrictions on accessing variables and methods directly and can prevent the accidental modification of data.'''\n",
    "\n",
    "#iv) Data abstraction : It hides the unnecessary code details from the user. Also,when we do not want to give out sensitive parts of our code implementation and this is where data abstraction came.\n",
    "     '''Data Abstraction in Python can be achieved through creating abstract classes.'''"
   ]
  },
  {
   "cell_type": "code",
   "execution_count": 1,
   "id": "32507766-bec8-419d-afc2-7dcb2fc19da2",
   "metadata": {},
   "outputs": [
    {
     "data": {
      "text/plain": [
       "'MSD'"
      ]
     },
     "execution_count": 1,
     "metadata": {},
     "output_type": "execute_result"
    }
   ],
   "source": [
    "#3\n",
    "\n",
    "''' __init__ method is constructor ,it is used to initialize objects ,it is executed at the time of object creation.'''\n",
    "\n",
    "class stud:\n",
    "    def __init__(self,name,roll_no):\n",
    "        self.name=name\n",
    "        self.roll_no=roll_no\n",
    "        \n",
    "st1=stud('MSD',7)\n",
    "st1.name"
   ]
  },
  {
   "cell_type": "code",
   "execution_count": null,
   "id": "3712d1f0-8d4a-4ebd-84ee-c0f8378d3fa1",
   "metadata": {},
   "outputs": [],
   "source": [
    "#4\n",
    "\n",
    "'''The self is used to represent the instance of the class.\n",
    "With this keyword, you can access the attributes and methods of the class in python. It binds the attributes with the given arguments.'''"
   ]
  },
  {
   "cell_type": "code",
   "execution_count": 22,
   "id": "82c7b8cc-a873-4465-9f3e-affd73917877",
   "metadata": {},
   "outputs": [
    {
     "name": "stdout",
     "output_type": "stream",
     "text": [
      "Make : Hyundai\n",
      "Fuel Type : Petrol\n",
      "Model:  i10\n",
      "INR  1000000\n"
     ]
    }
   ],
   "source": [
    "#5 \n",
    "\n",
    "#Inheritance is the capablity of the class to derive properties of other class i.e. variables and function \n",
    "#Single Inheritance \n",
    "class car:\n",
    "    def __init__(self,make,fuel_type):\n",
    "        self.make=make\n",
    "        self.fuel_type=fuel_type\n",
    "class new_car(car):\n",
    "    def __init__(self,make,fuel_type,model,price):\n",
    "        self.model=model\n",
    "        self.price=price\n",
    "        car.__init__(self,make,fuel_type)\n",
    "    \n",
    "    def details(self):\n",
    "        print(\"Make :\",self.make)\n",
    "        print(\"Fuel Type :\",self.fuel_type)\n",
    "        print(\"Model: \",self.model)\n",
    "        print(\"INR \",self.price)\n",
    "       \n",
    "car1=new_car('Hyundai','Petrol','i10',1000000)\n",
    "car1.details()"
   ]
  },
  {
   "cell_type": "code",
   "execution_count": 26,
   "id": "5223ae55-0afc-4e8c-bccd-7acdf784351f",
   "metadata": {},
   "outputs": [
    {
     "name": "stdout",
     "output_type": "stream",
     "text": [
      "Science\n",
      "XII\n",
      "Naruto\n",
      "10\n"
     ]
    }
   ],
   "source": [
    "# Multilevel Inheritance\n",
    "\n",
    "class Branch:\n",
    "    \n",
    "    def __init__(self,stream):\n",
    "        self.stream=stream\n",
    "\n",
    "class stand(Branch):\n",
    "    \n",
    "    def __init__(self,stream,standard):\n",
    "        self.standard=standard\n",
    "        Branch.__init__(self,stream)\n",
    "        \n",
    "class stud (stand):\n",
    "    \n",
    "    def __init__(self,stream,standard,name,roll_no):\n",
    "        self.name=name\n",
    "        self.roll_no=roll_no\n",
    "        stand.__init__(self,stream,standard)\n",
    "        \n",
    "    def details(self):\n",
    "        print(self.stream)\n",
    "        print(self.standard)\n",
    "        print(self.name)\n",
    "        print(self.roll_no)\n",
    "        \n",
    "stud1=stud(\"Science\",\"XII\",\"Naruto\",10)\n",
    "    \n",
    "stud1.details()   "
   ]
  },
  {
   "cell_type": "code",
   "execution_count": 35,
   "id": "29fb4174-7bd3-4989-833f-0ae8da1e3c9e",
   "metadata": {},
   "outputs": [
    {
     "name": "stdout",
     "output_type": "stream",
     "text": [
      "Shika\n",
      "Pyschlogy\n",
      "Kunai Throw\n"
     ]
    }
   ],
   "source": [
    "# Multiple Inheritance\n",
    "\n",
    "class sport:\n",
    "    def __init__(self,sports):\n",
    "        self.sports=sports\n",
    "class subject:\n",
    "    def __init__(self,subj):\n",
    "        self.subj=subj\n",
    "        \n",
    "class stud(sport,subject):\n",
    "    def __init__(self,name,sports,subj):\n",
    "        self.name=name\n",
    "        sport.__init__(self,sports)\n",
    "        subject.__init__(self,subj)\n",
    "    \n",
    "    def details(self):\n",
    "        print(self.name)\n",
    "        print(self.subj)\n",
    "        print(self.sports)\n",
    "\n",
    "stud2=stud(\"Shika\",\"Kunai Throw\",\"Pyschlogy\")\n",
    "stud2.details()"
   ]
  },
  {
   "cell_type": "code",
   "execution_count": 36,
   "id": "d24a9d6c-5281-49c9-a17d-90dc79fc0b82",
   "metadata": {},
   "outputs": [
    {
     "data": {
      "text/plain": [
       "' When more than one type of inheritance is executed at same time then it is called Hybrid Inherirance'"
      ]
     },
     "execution_count": 36,
     "metadata": {},
     "output_type": "execute_result"
    }
   ],
   "source": [
    "# Hierarichal Inheritance\n",
    "''' When multiple child class inherit properties of one parent class then it is called Hierarichal Inheritance'''\n",
    "\n",
    "# Hybrid Inheritance \n",
    "''' When more than one type of inheritance is executed at same time then it is called Hybrid Inherirance'''"
   ]
  }
 ],
 "metadata": {
  "kernelspec": {
   "display_name": "Python 3 (ipykernel)",
   "language": "python",
   "name": "python3"
  },
  "language_info": {
   "codemirror_mode": {
    "name": "ipython",
    "version": 3
   },
   "file_extension": ".py",
   "mimetype": "text/x-python",
   "name": "python",
   "nbconvert_exporter": "python",
   "pygments_lexer": "ipython3",
   "version": "3.10.8"
  }
 },
 "nbformat": 4,
 "nbformat_minor": 5
}
