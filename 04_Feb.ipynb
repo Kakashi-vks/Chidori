{
 "cells": [
  {
   "cell_type": "code",
   "execution_count": 1,
   "id": "3eea9e61-17dc-4238-9c6f-657430b1d100",
   "metadata": {},
   "outputs": [],
   "source": [
    "lst=[('Sachin Tendulkar',34357),('Ricky Ponting',27483),('Jack Kallis',25534),('Virat Kohli',24936)]"
   ]
  },
  {
   "cell_type": "code",
   "execution_count": 9,
   "id": "ac196b73-d666-4615-80b0-00ca344505a8",
   "metadata": {},
   "outputs": [
    {
     "name": "stdout",
     "output_type": "stream",
     "text": [
      "[('Virat Kohli', 24936), ('Jack Kallis', 25534), ('Ricky Ponting', 27483), ('Sachin Tendulkar', 34357)]\n"
     ]
    }
   ],
   "source": [
    "#1\n",
    "\n",
    "sorted_lst=sorted(lst,key= lambda x:x[1])\n",
    "print(sorted_lst)"
   ]
  },
  {
   "cell_type": "code",
   "execution_count": 9,
   "id": "bf0f3993-76ee-49b1-be47-fe03df73ec4f",
   "metadata": {},
   "outputs": [
    {
     "name": "stdout",
     "output_type": "stream",
     "text": [
      "[1, 4, 9, 16, 25, 36, 49, 64, 81, 100]\n"
     ]
    }
   ],
   "source": [
    "#2\n",
    "\n",
    "lst=[1,2,3,4,5,6,7,8,9,10]\n",
    "lst1= list(map(lambda x: x**2,lst))\n",
    "\n",
    "print(lst1)"
   ]
  },
  {
   "cell_type": "code",
   "execution_count": 2,
   "id": "3a8d76e4-0554-4e65-a93e-c5c866940b1e",
   "metadata": {},
   "outputs": [
    {
     "data": {
      "text/plain": [
       "(1, 2, 3, 4, 5, 6, 7, 8, 9, 10)"
      ]
     },
     "execution_count": 2,
     "metadata": {},
     "output_type": "execute_result"
    }
   ],
   "source": [
    "#3\n",
    "\n",
    "lst2=[1,2,3,4,5,6,7,8,9,10]\n",
    "tup1=tuple(map(lambda x:x,lst2))\n",
    "tup1"
   ]
  },
  {
   "cell_type": "code",
   "execution_count": 6,
   "id": "6e2ad2e1-3850-4608-8f7c-e198a2c2eee8",
   "metadata": {},
   "outputs": [
    {
     "name": "stdout",
     "output_type": "stream",
     "text": [
      "15511210043330985984000000\n"
     ]
    }
   ],
   "source": [
    "#4\n",
    "lst=[]\n",
    "for i in range(1,26):\n",
    "    lst.append(i)\n",
    "import functools\n",
    "\n",
    "print(functools.reduce(lambda x,y: x*y ,lst))"
   ]
  },
  {
   "cell_type": "code",
   "execution_count": 14,
   "id": "df1e81d3-5790-4883-b956-99665cb6b768",
   "metadata": {},
   "outputs": [
    {
     "data": {
      "text/plain": [
       "[6, 60, 90, 120]"
      ]
     },
     "execution_count": 14,
     "metadata": {},
     "output_type": "execute_result"
    }
   ],
   "source": [
    "#5\n",
    "\n",
    "lst3=[2,3,6,9,27,60,90,120,55,46]\n",
    "lst4=list(filter(lambda x: x if (x%2==0 and x%3==0) else None,lst3))\n",
    "\n",
    "lst4"
   ]
  },
  {
   "cell_type": "code",
   "execution_count": 22,
   "id": "cd902b61-fe45-4196-8b8f-3958585e006b",
   "metadata": {},
   "outputs": [
    {
     "data": {
      "text/plain": [
       "['php', 'aba', 'radar', 'level']"
      ]
     },
     "execution_count": 22,
     "metadata": {},
     "output_type": "execute_result"
    }
   ],
   "source": [
    "#6 \n",
    "\n",
    "lst5=['python','php','aba','radar','level']\n",
    "lst6=list(filter(lambda x:(x==\"\".join(reversed(x))) ,lst5))\n",
    "lst6"
   ]
  }
 ],
 "metadata": {
  "kernelspec": {
   "display_name": "Python 3 (ipykernel)",
   "language": "python",
   "name": "python3"
  },
  "language_info": {
   "codemirror_mode": {
    "name": "ipython",
    "version": 3
   },
   "file_extension": ".py",
   "mimetype": "text/x-python",
   "name": "python",
   "nbconvert_exporter": "python",
   "pygments_lexer": "ipython3",
   "version": "3.10.8"
  }
 },
 "nbformat": 4,
 "nbformat_minor": 5
}
